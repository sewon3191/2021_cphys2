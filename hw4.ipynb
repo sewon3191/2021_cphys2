{
  "nbformat": 4,
  "nbformat_minor": 0,
  "metadata": {
    "colab": {
      "name": "hw4.ipynb",
      "provenance": [],
      "collapsed_sections": [],
      "authorship_tag": "ABX9TyPWX4cdTLFONQHBdjPzXkHl",
      "include_colab_link": true
    },
    "kernelspec": {
      "name": "python3",
      "display_name": "Python 3"
    },
    "language_info": {
      "name": "python"
    }
  },
  "cells": [
    {
      "cell_type": "markdown",
      "metadata": {
        "id": "view-in-github",
        "colab_type": "text"
      },
      "source": [
        "<a href=\"https://colab.research.google.com/github/sewon3191/2021_cphys2/blob/main/hw4.ipynb\" target=\"_parent\"><img src=\"https://colab.research.google.com/assets/colab-badge.svg\" alt=\"Open In Colab\"/></a>"
      ]
    },
    {
      "cell_type": "markdown",
      "metadata": {
        "id": "bv2RALsQDLQj"
      },
      "source": [
        "##**XOR**"
      ]
    },
    {
      "cell_type": "markdown",
      "metadata": {
        "id": "_M0CpUvyCqBg"
      },
      "source": [
        "하나의 히든 레이어를 도입한다.\n",
        "\n",
        "input layer는 2개의 노드 + 1개의 바이어스\n",
        "\n",
        "hidden layer는 3개의 노드 + 1개의 바이어스\n",
        "\n",
        "output은 하나의 노드로 한다."
      ]
    },
    {
      "cell_type": "markdown",
      "metadata": {
        "id": "Xv2nqxWhDOu5"
      },
      "source": [
        " neural networks에서 backpropagation을 이용하여라"
      ]
    },
    {
      "cell_type": "code",
      "metadata": {
        "id": "qZ4CNuw9DdNQ"
      },
      "source": [
        "X = [[0,0,1],[1,0,1],[0,1,1],[1,1,1]]\n",
        "t = [0,1,1,0]"
      ],
      "execution_count": 1,
      "outputs": []
    },
    {
      "cell_type": "code",
      "metadata": {
        "id": "K7zw90gqDe4f"
      },
      "source": [
        "import numpy as np\n",
        "import matplotlib.pyplot as plt"
      ],
      "execution_count": 2,
      "outputs": []
    },
    {
      "cell_type": "code",
      "metadata": {
        "id": "SXeN9crmEvwb"
      },
      "source": [
        "def f(x):\n",
        "    return 1/(1+np.exp(-x))"
      ],
      "execution_count": 3,
      "outputs": []
    },
    {
      "cell_type": "code",
      "metadata": {
        "id": "yMczbCX4EvzI"
      },
      "source": [
        "X = np.array([[0,0,1],[0,1,1],[1,0,1],[1,1,1]])"
      ],
      "execution_count": 4,
      "outputs": []
    },
    {
      "cell_type": "code",
      "metadata": {
        "id": "vl2xyXu-Ev4T"
      },
      "source": [
        "y = np.array([[0],[1],[1],[0]])"
      ],
      "execution_count": 5,
      "outputs": []
    },
    {
      "cell_type": "code",
      "metadata": {
        "id": "wdeCCxyqEv7O"
      },
      "source": [
        "inputs, hiddens, outputs = 3,4,1"
      ],
      "execution_count": 6,
      "outputs": []
    },
    {
      "cell_type": "code",
      "metadata": {
        "id": "GUlDt6YMEv9r"
      },
      "source": [
        "np.random.seed(1)\n",
        "w = 2*np.random.random((inputs,hiddens))-1\n",
        "omega = 2*np.random.random((hiddens,outputs))-1"
      ],
      "execution_count": 7,
      "outputs": []
    },
    {
      "cell_type": "code",
      "metadata": {
        "id": "A1wfix68E2QK"
      },
      "source": [
        "dh=[0,0,0,0]\n",
        "eta=1\n",
        "for n in range(10000):\n",
        "    E=0\n",
        "    for i in range(4):\n",
        "        neth=np.dot(X[i],w) \n",
        "        h = f(neth)\n",
        "        neto=np.dot(h,omega) \n",
        "        o = f(neto)\n",
        "        \n",
        "        E = E + (o-y[i])**2\n",
        "        do=(o-y[i])*f(neto)*(1-f(neto))\n",
        "        for j in range(4):\n",
        "            dh[j]=do*omega[j]*f(neth[j])*(1-f(neth[j]))\n",
        "            omega[j]=omega[j]-eta*do*h[j]\n",
        "            for k in range(3):\n",
        "                w[k][j]=w[k][j]-eta*dh[j]*X[i][k]"
      ],
      "execution_count": 8,
      "outputs": []
    },
    {
      "cell_type": "code",
      "metadata": {
        "colab": {
          "base_uri": "https://localhost:8080/"
        },
        "id": "ugGH58HxE2Sq",
        "outputId": "9ec2d96e-7e94-4d24-d763-6e446d518cd1"
      },
      "source": [
        "for i in range(4):\n",
        "    neth=np.dot(X[i],w) \n",
        "    h = f(neth)\n",
        "    neto=np.dot(h,omega)\n",
        "    o = f(neto)\n",
        "    print(o)"
      ],
      "execution_count": 9,
      "outputs": [
        {
          "output_type": "stream",
          "name": "stdout",
          "text": [
            "[0.00615447]\n",
            "[0.99061359]\n",
            "[0.98866317]\n",
            "[0.01437855]\n"
          ]
        }
      ]
    }
  ]
}