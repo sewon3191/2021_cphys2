{
  "nbformat": 4,
  "nbformat_minor": 0,
  "metadata": {
    "colab": {
      "name": "final_2.ipynb",
      "provenance": [],
      "collapsed_sections": [],
      "authorship_tag": "ABX9TyP5JKb3Qi/gIWoMBbS/hTcK",
      "include_colab_link": true
    },
    "kernelspec": {
      "name": "python3",
      "display_name": "Python 3"
    },
    "language_info": {
      "name": "python"
    },
    "accelerator": "GPU",
    "widgets": {
      "application/vnd.jupyter.widget-state+json": {
        "fb7bd7eda0ac4443a32269c964bfb933": {
          "model_module": "@jupyter-widgets/controls",
          "model_name": "HBoxModel",
          "model_module_version": "1.5.0",
          "state": {
            "_view_name": "HBoxView",
            "_dom_classes": [],
            "_model_name": "HBoxModel",
            "_view_module": "@jupyter-widgets/controls",
            "_model_module_version": "1.5.0",
            "_view_count": null,
            "_view_module_version": "1.5.0",
            "box_style": "",
            "layout": "IPY_MODEL_e7bd327e6ae04a80bf2f75a2ebeab325",
            "_model_module": "@jupyter-widgets/controls",
            "children": [
              "IPY_MODEL_1cdd8cb76bba4b308e952d9c6371cc2d",
              "IPY_MODEL_89a7dff26f35453897e0885c24707dc1",
              "IPY_MODEL_73e00188359f4738a1ab6c6e2d449cf3"
            ]
          }
        },
        "e7bd327e6ae04a80bf2f75a2ebeab325": {
          "model_module": "@jupyter-widgets/base",
          "model_name": "LayoutModel",
          "model_module_version": "1.2.0",
          "state": {
            "_view_name": "LayoutView",
            "grid_template_rows": null,
            "right": null,
            "justify_content": null,
            "_view_module": "@jupyter-widgets/base",
            "overflow": null,
            "_model_module_version": "1.2.0",
            "_view_count": null,
            "flex_flow": null,
            "width": null,
            "min_width": null,
            "border": null,
            "align_items": null,
            "bottom": null,
            "_model_module": "@jupyter-widgets/base",
            "top": null,
            "grid_column": null,
            "overflow_y": null,
            "overflow_x": null,
            "grid_auto_flow": null,
            "grid_area": null,
            "grid_template_columns": null,
            "flex": null,
            "_model_name": "LayoutModel",
            "justify_items": null,
            "grid_row": null,
            "max_height": null,
            "align_content": null,
            "visibility": null,
            "align_self": null,
            "height": null,
            "min_height": null,
            "padding": null,
            "grid_auto_rows": null,
            "grid_gap": null,
            "max_width": null,
            "order": null,
            "_view_module_version": "1.2.0",
            "grid_template_areas": null,
            "object_position": null,
            "object_fit": null,
            "grid_auto_columns": null,
            "margin": null,
            "display": null,
            "left": null
          }
        },
        "1cdd8cb76bba4b308e952d9c6371cc2d": {
          "model_module": "@jupyter-widgets/controls",
          "model_name": "HTMLModel",
          "model_module_version": "1.5.0",
          "state": {
            "_view_name": "HTMLView",
            "style": "IPY_MODEL_9572e8a253ea4d95bca85f26d10cb0e7",
            "_dom_classes": [],
            "description": "",
            "_model_name": "HTMLModel",
            "placeholder": "​",
            "_view_module": "@jupyter-widgets/controls",
            "_model_module_version": "1.5.0",
            "value": "",
            "_view_count": null,
            "_view_module_version": "1.5.0",
            "description_tooltip": null,
            "_model_module": "@jupyter-widgets/controls",
            "layout": "IPY_MODEL_54a07bb5f8ae4d2d8cf8aba5356c309d"
          }
        },
        "89a7dff26f35453897e0885c24707dc1": {
          "model_module": "@jupyter-widgets/controls",
          "model_name": "FloatProgressModel",
          "model_module_version": "1.5.0",
          "state": {
            "_view_name": "ProgressView",
            "style": "IPY_MODEL_c0567993f5e34ed2bc5e7fe4535af53c",
            "_dom_classes": [],
            "description": "",
            "_model_name": "FloatProgressModel",
            "bar_style": "success",
            "max": 170498071,
            "_view_module": "@jupyter-widgets/controls",
            "_model_module_version": "1.5.0",
            "value": 170498071,
            "_view_count": null,
            "_view_module_version": "1.5.0",
            "orientation": "horizontal",
            "min": 0,
            "description_tooltip": null,
            "_model_module": "@jupyter-widgets/controls",
            "layout": "IPY_MODEL_d0a2df997fae470b8be84fd9f437157c"
          }
        },
        "73e00188359f4738a1ab6c6e2d449cf3": {
          "model_module": "@jupyter-widgets/controls",
          "model_name": "HTMLModel",
          "model_module_version": "1.5.0",
          "state": {
            "_view_name": "HTMLView",
            "style": "IPY_MODEL_a61a3807996d4782aabb4d5a75122c07",
            "_dom_classes": [],
            "description": "",
            "_model_name": "HTMLModel",
            "placeholder": "​",
            "_view_module": "@jupyter-widgets/controls",
            "_model_module_version": "1.5.0",
            "value": " 170499072/? [00:05&lt;00:00, 54631475.51it/s]",
            "_view_count": null,
            "_view_module_version": "1.5.0",
            "description_tooltip": null,
            "_model_module": "@jupyter-widgets/controls",
            "layout": "IPY_MODEL_49988eb40f1046b0bbbf1c75a5ed2c78"
          }
        },
        "9572e8a253ea4d95bca85f26d10cb0e7": {
          "model_module": "@jupyter-widgets/controls",
          "model_name": "DescriptionStyleModel",
          "model_module_version": "1.5.0",
          "state": {
            "_view_name": "StyleView",
            "_model_name": "DescriptionStyleModel",
            "description_width": "",
            "_view_module": "@jupyter-widgets/base",
            "_model_module_version": "1.5.0",
            "_view_count": null,
            "_view_module_version": "1.2.0",
            "_model_module": "@jupyter-widgets/controls"
          }
        },
        "54a07bb5f8ae4d2d8cf8aba5356c309d": {
          "model_module": "@jupyter-widgets/base",
          "model_name": "LayoutModel",
          "model_module_version": "1.2.0",
          "state": {
            "_view_name": "LayoutView",
            "grid_template_rows": null,
            "right": null,
            "justify_content": null,
            "_view_module": "@jupyter-widgets/base",
            "overflow": null,
            "_model_module_version": "1.2.0",
            "_view_count": null,
            "flex_flow": null,
            "width": null,
            "min_width": null,
            "border": null,
            "align_items": null,
            "bottom": null,
            "_model_module": "@jupyter-widgets/base",
            "top": null,
            "grid_column": null,
            "overflow_y": null,
            "overflow_x": null,
            "grid_auto_flow": null,
            "grid_area": null,
            "grid_template_columns": null,
            "flex": null,
            "_model_name": "LayoutModel",
            "justify_items": null,
            "grid_row": null,
            "max_height": null,
            "align_content": null,
            "visibility": null,
            "align_self": null,
            "height": null,
            "min_height": null,
            "padding": null,
            "grid_auto_rows": null,
            "grid_gap": null,
            "max_width": null,
            "order": null,
            "_view_module_version": "1.2.0",
            "grid_template_areas": null,
            "object_position": null,
            "object_fit": null,
            "grid_auto_columns": null,
            "margin": null,
            "display": null,
            "left": null
          }
        },
        "c0567993f5e34ed2bc5e7fe4535af53c": {
          "model_module": "@jupyter-widgets/controls",
          "model_name": "ProgressStyleModel",
          "model_module_version": "1.5.0",
          "state": {
            "_view_name": "StyleView",
            "_model_name": "ProgressStyleModel",
            "description_width": "",
            "_view_module": "@jupyter-widgets/base",
            "_model_module_version": "1.5.0",
            "_view_count": null,
            "_view_module_version": "1.2.0",
            "bar_color": null,
            "_model_module": "@jupyter-widgets/controls"
          }
        },
        "d0a2df997fae470b8be84fd9f437157c": {
          "model_module": "@jupyter-widgets/base",
          "model_name": "LayoutModel",
          "model_module_version": "1.2.0",
          "state": {
            "_view_name": "LayoutView",
            "grid_template_rows": null,
            "right": null,
            "justify_content": null,
            "_view_module": "@jupyter-widgets/base",
            "overflow": null,
            "_model_module_version": "1.2.0",
            "_view_count": null,
            "flex_flow": null,
            "width": null,
            "min_width": null,
            "border": null,
            "align_items": null,
            "bottom": null,
            "_model_module": "@jupyter-widgets/base",
            "top": null,
            "grid_column": null,
            "overflow_y": null,
            "overflow_x": null,
            "grid_auto_flow": null,
            "grid_area": null,
            "grid_template_columns": null,
            "flex": null,
            "_model_name": "LayoutModel",
            "justify_items": null,
            "grid_row": null,
            "max_height": null,
            "align_content": null,
            "visibility": null,
            "align_self": null,
            "height": null,
            "min_height": null,
            "padding": null,
            "grid_auto_rows": null,
            "grid_gap": null,
            "max_width": null,
            "order": null,
            "_view_module_version": "1.2.0",
            "grid_template_areas": null,
            "object_position": null,
            "object_fit": null,
            "grid_auto_columns": null,
            "margin": null,
            "display": null,
            "left": null
          }
        },
        "a61a3807996d4782aabb4d5a75122c07": {
          "model_module": "@jupyter-widgets/controls",
          "model_name": "DescriptionStyleModel",
          "model_module_version": "1.5.0",
          "state": {
            "_view_name": "StyleView",
            "_model_name": "DescriptionStyleModel",
            "description_width": "",
            "_view_module": "@jupyter-widgets/base",
            "_model_module_version": "1.5.0",
            "_view_count": null,
            "_view_module_version": "1.2.0",
            "_model_module": "@jupyter-widgets/controls"
          }
        },
        "49988eb40f1046b0bbbf1c75a5ed2c78": {
          "model_module": "@jupyter-widgets/base",
          "model_name": "LayoutModel",
          "model_module_version": "1.2.0",
          "state": {
            "_view_name": "LayoutView",
            "grid_template_rows": null,
            "right": null,
            "justify_content": null,
            "_view_module": "@jupyter-widgets/base",
            "overflow": null,
            "_model_module_version": "1.2.0",
            "_view_count": null,
            "flex_flow": null,
            "width": null,
            "min_width": null,
            "border": null,
            "align_items": null,
            "bottom": null,
            "_model_module": "@jupyter-widgets/base",
            "top": null,
            "grid_column": null,
            "overflow_y": null,
            "overflow_x": null,
            "grid_auto_flow": null,
            "grid_area": null,
            "grid_template_columns": null,
            "flex": null,
            "_model_name": "LayoutModel",
            "justify_items": null,
            "grid_row": null,
            "max_height": null,
            "align_content": null,
            "visibility": null,
            "align_self": null,
            "height": null,
            "min_height": null,
            "padding": null,
            "grid_auto_rows": null,
            "grid_gap": null,
            "max_width": null,
            "order": null,
            "_view_module_version": "1.2.0",
            "grid_template_areas": null,
            "object_position": null,
            "object_fit": null,
            "grid_auto_columns": null,
            "margin": null,
            "display": null,
            "left": null
          }
        }
      }
    }
  },
  "cells": [
    {
      "cell_type": "markdown",
      "metadata": {
        "id": "view-in-github",
        "colab_type": "text"
      },
      "source": [
        "<a href=\"https://colab.research.google.com/github/sewon3191/2021_cphys2/blob/main/final_2.ipynb\" target=\"_parent\"><img src=\"https://colab.research.google.com/assets/colab-badge.svg\" alt=\"Open In Colab\"/></a>"
      ]
    },
    {
      "cell_type": "markdown",
      "source": [
        "# 2. Image classification with CNN\n",
        "\n",
        "- cnn을 이용하여 다음 이미지를 분류하여라.\n",
        "- 인풋 데이터는 rgb 정보를 가지고 있다.\n",
        "- 코드, 결과, 보고서를 함께 제출하여야 한다.\n",
        "- 주의! 자신의 코드에 대한 설명과 결과에 대한 해석을 보고서로 함께 작성\n",
        "- 보고서는 코드 아래에 마크다운을 이용해서 작성할 것"
      ],
      "metadata": {
        "id": "0SBV2uWV_Rhn"
      }
    },
    {
      "cell_type": "code",
      "source": [
        "import torch\n",
        "import torchvision\n",
        "import torchvision.transforms as transforms\n",
        "import matplotlib.pyplot as plt"
      ],
      "metadata": {
        "id": "VSvUOUBP_dXQ"
      },
      "execution_count": 1,
      "outputs": []
    },
    {
      "cell_type": "code",
      "source": [
        "batch_size = 4 #batch 사이즈 설정\n",
        "\n",
        "trainset = torchvision.datasets.CIFAR10(\n",
        "    root='./data', \n",
        "    train=True,\n",
        "    download=True, \n",
        "    transform=torchvision.transforms.ToTensor()\n",
        ")\n",
        "train_loader = torch.utils.data.DataLoader(\n",
        "    trainset, \n",
        "    batch_size=batch_size,\n",
        "    shuffle=True\n",
        ")\n",
        "\n",
        "testset = torchvision.datasets.CIFAR10(\n",
        "    root='./data', \n",
        "    train=False,\n",
        "    download=True, \n",
        "    transform=torchvision.transforms.ToTensor()\n",
        ")\n",
        "test_loader = torch.utils.data.DataLoader(\n",
        "    testset, \n",
        "    batch_size=batch_size,\n",
        "    shuffle=False\n",
        ")\n",
        "\n",
        "classes = trainset.classes\n",
        "classes"
      ],
      "metadata": {
        "id": "iBTMem09_dah",
        "colab": {
          "base_uri": "https://localhost:8080/",
          "height": 288,
          "referenced_widgets": [
            "fb7bd7eda0ac4443a32269c964bfb933",
            "e7bd327e6ae04a80bf2f75a2ebeab325",
            "1cdd8cb76bba4b308e952d9c6371cc2d",
            "89a7dff26f35453897e0885c24707dc1",
            "73e00188359f4738a1ab6c6e2d449cf3",
            "9572e8a253ea4d95bca85f26d10cb0e7",
            "54a07bb5f8ae4d2d8cf8aba5356c309d",
            "c0567993f5e34ed2bc5e7fe4535af53c",
            "d0a2df997fae470b8be84fd9f437157c",
            "a61a3807996d4782aabb4d5a75122c07",
            "49988eb40f1046b0bbbf1c75a5ed2c78"
          ]
        },
        "outputId": "51c8fa79-7b87-48b0-ce71-ac28954e4d6c"
      },
      "execution_count": 2,
      "outputs": [
        {
          "output_type": "stream",
          "name": "stdout",
          "text": [
            "Downloading https://www.cs.toronto.edu/~kriz/cifar-10-python.tar.gz to ./data/cifar-10-python.tar.gz\n"
          ]
        },
        {
          "output_type": "display_data",
          "data": {
            "application/vnd.jupyter.widget-view+json": {
              "model_id": "fb7bd7eda0ac4443a32269c964bfb933",
              "version_minor": 0,
              "version_major": 2
            },
            "text/plain": [
              "  0%|          | 0/170498071 [00:00<?, ?it/s]"
            ]
          },
          "metadata": {}
        },
        {
          "output_type": "stream",
          "name": "stdout",
          "text": [
            "Extracting ./data/cifar-10-python.tar.gz to ./data\n",
            "Files already downloaded and verified\n"
          ]
        },
        {
          "output_type": "execute_result",
          "data": {
            "text/plain": [
              "['airplane',\n",
              " 'automobile',\n",
              " 'bird',\n",
              " 'cat',\n",
              " 'deer',\n",
              " 'dog',\n",
              " 'frog',\n",
              " 'horse',\n",
              " 'ship',\n",
              " 'truck']"
            ]
          },
          "metadata": {},
          "execution_count": 2
        }
      ]
    },
    {
      "cell_type": "code",
      "source": [
        "images=train_loader.dataset[1][0]\n",
        "plt.imshow(images.permute(1, 2, 0))"
      ],
      "metadata": {
        "id": "6_ZH2T-O_de7",
        "colab": {
          "base_uri": "https://localhost:8080/",
          "height": 284
        },
        "outputId": "ecaebc3c-cae2-4908-84d7-41b0d5a92b3d"
      },
      "execution_count": 3,
      "outputs": [
        {
          "output_type": "execute_result",
          "data": {
            "text/plain": [
              "<matplotlib.image.AxesImage at 0x7f56ada813d0>"
            ]
          },
          "metadata": {},
          "execution_count": 3
        },
        {
          "output_type": "display_data",
          "data": {
            "image/png": "[encoded data removed]",
            "text/plain": [
              "<Figure size 432x288 with 1 Axes>"
            ]
          },
          "metadata": {
            "needs_background": "light"
          }
        }
      ]
    },
    {
      "cell_type": "code",
      "source": [
        "images.size() # [3, 32, 32]: 3 -> RGB, 32x32 "
      ],
      "metadata": {
        "id": "dfrqrpYl_dh7",
        "colab": {
          "base_uri": "https://localhost:8080/"
        },
        "outputId": "13cb61c9-69b9-4402-d9a8-12cc06207f15"
      },
      "execution_count": 4,
      "outputs": [
        {
          "output_type": "execute_result",
          "data": {
            "text/plain": [
              "torch.Size([3, 32, 32])"
            ]
          },
          "metadata": {},
          "execution_count": 4
        }
      ]
    },
    {
      "cell_type": "code",
      "source": [
        "import torch.nn as nn \n",
        "class net(nn.Module): \n",
        "    def __init__(self):\n",
        "        super().__init__()\n",
        "        self.conv1 = nn.Conv2d(in_channels=3, out_channels=6, kernel_size=3,padding=1) #레이어구성\n",
        "        self.conv2 = nn.Conv2d(in_channels=6, out_channels=8, kernel_size=3,padding=1)\n",
        "        self.fc1 = nn.Linear(8 * 8* 8, 25)\n",
        "        self.fc2 = nn.Linear(25, 15)\n",
        "        self.fc3 = nn.Linear(15, 10)\n",
        "        \n",
        "    def forward(self, x):\n",
        "        x = self.conv1(x)\n",
        "        x = nn.functional.relu(x) # ReLU로 미분 값이 0과 1만을 가지고 계속 작아지는 문제 수정\n",
        "        x = nn.functional.max_pool2d(x, 2) #최댓값만 모으기\n",
        "        x = self.conv2(x)\n",
        "        x = nn.functional.relu(x)\n",
        "        x = nn.functional.max_pool2d(x, 2)\n",
        "\n",
        "        # fully connected\n",
        "        x = nn.functional.relu(x)\n",
        "        x = nn.functional.relu(x)\n",
        "        x = torch.flatten(x,1)\n",
        "        x = self.fc1(x)\n",
        "        x = nn.functional.relu(x)\n",
        "        x = self.fc2(x)\n",
        "        x = nn.functional.relu(x)\n",
        "        x = self.fc3(x)\n",
        "        return x"
      ],
      "metadata": {
        "id": "FLkm4gGc_dkr"
      },
      "execution_count": 5,
      "outputs": []
    },
    {
      "cell_type": "code",
      "source": [
        "model = net()\n",
        "\n",
        "# loss and optimizer\n",
        "learning_rate = 0.001\n",
        "criterion = nn.CrossEntropyLoss()\n",
        "optimizer = torch.optim.Adam(model.parameters(),lr=learning_rate)"
      ],
      "metadata": {
        "id": "d6nyYnjuMjuV"
      },
      "execution_count": 6,
      "outputs": []
    },
    {
      "cell_type": "code",
      "source": [
        "model"
      ],
      "metadata": {
        "colab": {
          "base_uri": "https://localhost:8080/"
        },
        "id": "a5INh4NLSC5g",
        "outputId": "fabac60d-3f9b-43f4-8123-cbed3cc2a841"
      },
      "execution_count": 7,
      "outputs": [
        {
          "output_type": "execute_result",
          "data": {
            "text/plain": [
              "net(\n",
              "  (conv1): Conv2d(3, 6, kernel_size=(3, 3), stride=(1, 1), padding=(1, 1))\n",
              "  (conv2): Conv2d(6, 8, kernel_size=(3, 3), stride=(1, 1), padding=(1, 1))\n",
              "  (fc1): Linear(in_features=512, out_features=25, bias=True)\n",
              "  (fc2): Linear(in_features=25, out_features=15, bias=True)\n",
              "  (fc3): Linear(in_features=15, out_features=10, bias=True)\n",
              ")"
            ]
          },
          "metadata": {},
          "execution_count": 7
        }
      ]
    },
    {
      "cell_type": "code",
      "source": [
        "# training\n",
        "def train(model, criterion, optimizer, data):\n",
        "    model.train()\n",
        "    for X,y in data:\n",
        "        y_pred = model(X)\n",
        "        loss = criterion(y_pred,y)\n",
        "        \n",
        "        optimizer.zero_grad() #미분값 초기화\n",
        "        loss.backward() #역전파\n",
        "        optimizer.step()"
      ],
      "metadata": {
        "id": "6Mfr5oYsUJJS"
      },
      "execution_count": 8,
      "outputs": []
    },
    {
      "cell_type": "code",
      "source": [
        "def evaluation(model, criterion, optimizer, data):\n",
        "    model.eval() \n",
        "    test_loss = 0\n",
        "    accuracy = 0\n",
        "    size=0\n",
        "\n",
        "    with torch.no_grad():\n",
        "        for x, y in data:\n",
        "            y_pred = model(x)\n",
        "            test_loss = criterion(y_pred, y).item()\n",
        "            prediction = y_pred.max(1)[1]\n",
        "            size +=y.size(0)\n",
        "            accuracy += (prediction == y).sum().item()\n",
        "            accu_size = accuracy/size\n",
        "    return test_loss, accu_size"
      ],
      "metadata": {
        "id": "lG0mx1tJMmDX"
      },
      "execution_count": 9,
      "outputs": []
    },
    {
      "cell_type": "code",
      "source": [
        "nums_epoch = 30\n",
        "for epoch in range(nums_epoch):\n",
        "    train(model, criterion, optimizer, train_loader)\n",
        "    \n",
        "    if(epoch%3==0):\n",
        "        E, accu = evaluation(model, criterion, optimizer, test_loader)\n",
        "        print(epoch, \"loss=\", E, \"accu=\", accu)"
      ],
      "metadata": {
        "colab": {
          "base_uri": "https://localhost:8080/"
        },
        "id": "Lv3gNl9MMna0",
        "outputId": "72008bef-2683-46d4-a689-5517cdabfa98"
      },
      "execution_count": 10,
      "outputs": [
        {
          "output_type": "stream",
          "name": "stdout",
          "text": [
            "0 loss= 1.0996075868606567 accu= 0.442\n",
            "3 loss= 0.8209631443023682 accu= 0.5142\n",
            "6 loss= 1.2869141101837158 accu= 0.5304\n",
            "9 loss= 0.6318536996841431 accu= 0.561\n",
            "12 loss= 0.6635444164276123 accu= 0.5788\n",
            "15 loss= 0.9679754376411438 accu= 0.5777\n",
            "18 loss= 0.7220430970191956 accu= 0.5828\n",
            "21 loss= 0.8375237584114075 accu= 0.5736\n",
            "24 loss= 0.781477689743042 accu= 0.5771\n",
            "27 loss= 0.6763209104537964 accu= 0.5853\n"
          ]
        }
      ]
    },
    {
      "cell_type": "markdown",
      "source": [
        "CNN 을 활용하여 이미지를 분류하는 프로그램을 작성하였다. 최족 정확도는 58퍼센트가 나왔다. 기존에 과제에서 사용하던 구조가 아닌 새로운 모델로 했어야 했다. 최초조건으로 주어진 양식에 맞춰서 시작하였으며 기본 프로그램 형태는 CNN 방식으로 하였고 epoch 사이즈는 30으로 하였다."
      ],
      "metadata": {
        "id": "OLRzD-W4aJPt"
      }
    },
    {
      "cell_type": "code",
      "source": [
        ""
      ],
      "metadata": {
        "id": "l3V_Zjy4lYJu"
      },
      "execution_count": null,
      "outputs": []
    }
  ]
}